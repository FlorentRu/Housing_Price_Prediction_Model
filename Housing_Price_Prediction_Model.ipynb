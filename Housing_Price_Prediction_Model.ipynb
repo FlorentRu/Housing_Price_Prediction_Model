{
  "nbformat": 4,
  "nbformat_minor": 0,
  "metadata": {
    "colab": {
      "provenance": []
    },
    "kernelspec": {
      "name": "python3",
      "display_name": "Python 3"
    },
    "language_info": {
      "name": "python"
    }
  },
  "cells": [
    {
      "cell_type": "code",
      "execution_count": 1,
      "metadata": {
        "colab": {
          "base_uri": "https://localhost:8080/"
        },
        "id": "btoxu3l_OzcA",
        "outputId": "f1eea1ac-fbd8-4d59-914f-bf269dcd3306"
      },
      "outputs": [
        {
          "output_type": "stream",
          "name": "stdout",
          "text": [
            "Dataset Preview:\n",
            "   MedInc  HouseAge  AveRooms  AveBedrms  Population  AveOccup  Latitude  \\\n",
            "0  8.3252      41.0  6.984127   1.023810       322.0  2.555556     37.88   \n",
            "1  8.3014      21.0  6.238137   0.971880      2401.0  2.109842     37.86   \n",
            "2  7.2574      52.0  8.288136   1.073446       496.0  2.802260     37.85   \n",
            "3  5.6431      52.0  5.817352   1.073059       558.0  2.547945     37.85   \n",
            "4  3.8462      52.0  6.281853   1.081081       565.0  2.181467     37.85   \n",
            "\n",
            "   Longitude  MedHouseVal  \n",
            "0    -122.23        4.526  \n",
            "1    -122.22        3.585  \n",
            "2    -122.24        3.521  \n",
            "3    -122.25        3.413  \n",
            "4    -122.25        3.422  \n"
          ]
        }
      ],
      "source": [
        "import pandas as pd\n",
        "import numpy as np\n",
        "from sklearn.datasets import fetch_california_housing\n",
        "from sklearn.model_selection import train_test_split\n",
        "from sklearn.preprocessing import StandardScaler\n",
        "from sklearn.linear_model import LinearRegression\n",
        "from sklearn.metrics import mean_squared_error, r2_score\n",
        "\n",
        "# Let download the California Housing dataset and assign it into an argument\n",
        "housing = fetch_california_housing(as_frame=True)\n",
        "df = housing.frame\n",
        "\n",
        "# Display the first few rows of the dataset\n",
        "print(\"Dataset Preview:\")\n",
        "print(df.head())"
      ]
    },
    {
      "cell_type": "code",
      "source": [
        "# Select features and the target variable\n",
        "# Let's choose specific features by modifying the 'features' list\n",
        "features = ['MedInc', 'HouseAge', 'AveRooms', 'AveBedrms', 'Population', 'AveOccup', 'Latitude', 'Longitude']\n",
        "X = df[features]          # Here we have features\n",
        "y = df['MedHouseVal']     # Here we have target variable (Median House Value)\n",
        "\n",
        "# Split the data into training and testing sets\n",
        "# 80% training and 20% testing\n",
        "X_train, X_test, y_train, y_test = train_test_split(X, y, test_size=0.2, random_state=42)\n",
        "\n",
        "# Let's perform feature scaling (standardization)\n",
        "scaler = StandardScaler()\n",
        "X_train_scaled = scaler.fit_transform(X_train)\n",
        "X_test_scaled = scaler.transform(X_test)\n",
        "\n",
        "# Let's initialize the regression model\n",
        "model = LinearRegression()\n",
        "\n",
        "# Train the model on the training data\n",
        "model.fit(X_train_scaled, y_train)\n",
        "\n",
        "# Make predictions on the testing data\n",
        "y_pred = model.predict(X_test_scaled)"
      ],
      "metadata": {
        "id": "1DmPAWe2PJLa"
      },
      "execution_count": 2,
      "outputs": []
    },
    {
      "cell_type": "code",
      "source": [
        "# Let's valuate the model's performance\n",
        "mse = mean_squared_error(y_test, y_pred)\n",
        "r2 = r2_score(y_test, y_pred)\n",
        "\n",
        "print(\"\\nModel Performance:\")\n",
        "print(f\"Mean Squared Error: {mse:.4f}\")\n",
        "print(f\"R² Score: {r2:.4f}\")"
      ],
      "metadata": {
        "colab": {
          "base_uri": "https://localhost:8080/"
        },
        "id": "A6Phi4LDPRMr",
        "outputId": "0a4effdd-113c-442d-d7c2-0bca39f7b80f"
      },
      "execution_count": 3,
      "outputs": [
        {
          "output_type": "stream",
          "name": "stdout",
          "text": [
            "\n",
            "Model Performance:\n",
            "Mean Squared Error: 0.5559\n",
            "R² Score: 0.5758\n"
          ]
        }
      ]
    },
    {
      "cell_type": "code",
      "source": [
        "# Let's predict the price of a house for a specific scenario\n",
        "# Here are the features for this specific example\n",
        "house_features = {\n",
        "    'MedInc': [5.0],        # Median Income\n",
        "    'HouseAge': [20.0],     # House Age in years\n",
        "    'AveRooms': [6.0],      # Average number of rooms\n",
        "    'AveBedrms': [1.0],     # Average number of bedrooms\n",
        "    'Population': [1000.0], # Population of the area\n",
        "    'AveOccup': [3.0],      # Average occupancy\n",
        "    'Latitude': [34.0],     # Latitude coordinate\n",
        "    'Longitude': [-118.0]   # Longitude coordinate\n",
        "}\n",
        "\n",
        "# Create a DataFrame from the features, ensuring the columns are in the same order\n",
        "house_df = pd.DataFrame(house_features, columns=features)\n",
        "\n",
        "# Scale the features using the same scaler used for training\n",
        "house_scaled = scaler.transform(house_df)\n",
        "\n",
        "# Let's predict the house price using the trained model\n",
        "price_prediction = model.predict(house_scaled)\n",
        "\n",
        "# Since 'MedHouseVal' is in units of $100,000, multiply the prediction to get the actual price\n",
        "estimated_price = price_prediction[0] * 100000\n",
        "\n",
        "print(\"\\nEstimated House Price:\")\n",
        "print(f\"${estimated_price:.2f}\")"
      ],
      "metadata": {
        "colab": {
          "base_uri": "https://localhost:8080/"
        },
        "id": "YxrbEQSmQLMH",
        "outputId": "8d0f3b1f-eded-45e7-ddfa-ed927a1c8992"
      },
      "execution_count": 4,
      "outputs": [
        {
          "output_type": "stream",
          "name": "stdout",
          "text": [
            "\n",
            "Estimated House Price:\n",
            "$234978.54\n"
          ]
        }
      ]
    },
    {
      "cell_type": "code",
      "source": [
        "# Let's predict the price of a house for a specific scenario\n",
        "# Here are the features for this specific example\n",
        "house_features = {\n",
        "    'MedInc': [8.0],        # Median Income\n",
        "    'HouseAge': [10.0],     # House Age in years\n",
        "    'AveRooms': [3.0],      # Average number of rooms\n",
        "    'AveBedrms': [3.0],     # Average number of bedrooms\n",
        "    'Population': [1000.0], # Population of the area\n",
        "    'AveOccup': [4.0],      # Average occupancy\n",
        "    'Latitude': [34.0],     # Latitude coordinate\n",
        "    'Longitude': [-118.0]   # Longitude coordinate\n",
        "}\n",
        "\n",
        "# Create a DataFrame from the features, ensuring the columns are in the same order\n",
        "house_df = pd.DataFrame(house_features, columns=features)\n",
        "\n",
        "# Scale the features using the same scaler used for training\n",
        "house_scaled = scaler.transform(house_df)\n",
        "\n",
        "# Let's predict the house price using the trained model\n",
        "price_prediction = model.predict(house_scaled)\n",
        "\n",
        "# Since 'MedHouseVal' is in units of $100,000, multiply the prediction to get the actual price\n",
        "estimated_price = price_prediction[0] * 100000\n",
        "\n",
        "print(\"\\nEstimated House Price:\")\n",
        "print(f\"${estimated_price:.2f}\")"
      ],
      "metadata": {
        "colab": {
          "base_uri": "https://localhost:8080/"
        },
        "id": "8j4W1vlHogoX",
        "outputId": "a344c1fd-1d23-4c75-f986-158bb3b04911"
      },
      "execution_count": 7,
      "outputs": [
        {
          "output_type": "stream",
          "name": "stdout",
          "text": [
            "\n",
            "Estimated House Price:\n",
            "$553130.11\n"
          ]
        }
      ]
    },
    {
      "cell_type": "code",
      "source": [],
      "metadata": {
        "id": "aUgHZQbVszRe"
      },
      "execution_count": null,
      "outputs": []
    }
  ]
}